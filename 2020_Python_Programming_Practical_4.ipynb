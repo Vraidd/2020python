{
  "nbformat": 4,
  "nbformat_minor": 0,
  "metadata": {
    "colab": {
      "name": "2020 Python Programming Practical 4.ipynb",
      "provenance": [],
      "collapsed_sections": [],
      "include_colab_link": true
    },
    "kernelspec": {
      "name": "python3",
      "display_name": "Python 3"
    }
  },
  "cells": [
    {
      "cell_type": "markdown",
      "metadata": {
        "id": "view-in-github",
        "colab_type": "text"
      },
      "source": [
        "<a href=\"https://colab.research.google.com/github/Vraidd/2020python/blob/master/2020_Python_Programming_Practical_4.ipynb\" target=\"_parent\"><img src=\"https://colab.research.google.com/assets/colab-badge.svg\" alt=\"Open In Colab\"/></a>"
      ]
    },
    {
      "cell_type": "markdown",
      "metadata": {
        "id": "jp3BkDml8xiR",
        "colab_type": "text"
      },
      "source": [
        "# **2020 Python Programming Practical 4**\n",
        "\n",
        "If you do not have one already, create a [GitHub](https://github.com) account using your DHS Mail.\n",
        "\n",
        "Create a public repository 2020python\n",
        "\n",
        "File --> Save a copy in GitHub under your 2020python repository\n",
        "\n",
        "Also share this colab file with edit access with computing@dhs.sg\n",
        "\n"
      ]
    },
    {
      "cell_type": "markdown",
      "metadata": {
        "id": "-U8w0oQW9P_b",
        "colab_type": "text"
      },
      "source": [
        "**Q1. (Summing series 1)**  \n",
        "Write a recursive function sum_series1(i) to compute the following series:   \n",
        "m(i) = 1 + ½ + ⅓ + … + 1/i\n"
      ]
    },
    {
      "cell_type": "code",
      "metadata": {
        "id": "D0uTR7B-8qbF",
        "colab_type": "code",
        "colab": {}
      },
      "source": [
        ""
      ],
      "execution_count": 0,
      "outputs": []
    },
    {
      "cell_type": "markdown",
      "metadata": {
        "id": "7Ui5CuS_9Za1",
        "colab_type": "text"
      },
      "source": [
        "**Q2. (Summing series 2)**  \n",
        "Write a recursive function sum_series2(i) to compute the following series:   \n",
        "m(i) = ⅓ + ⅖ + 3/7 + 4/9 + 5/11 + 6/13 + … + i/(2i+1)\n"
      ]
    },
    {
      "cell_type": "code",
      "metadata": {
        "id": "CfkRAAWV9cXS",
        "colab_type": "code",
        "colab": {}
      },
      "source": [
        ""
      ],
      "execution_count": 0,
      "outputs": []
    },
    {
      "cell_type": "markdown",
      "metadata": {
        "id": "aVhHiT8w9c7d",
        "colab_type": "text"
      },
      "source": [
        "**Q3. (Computing GCD)**  \n",
        "The greatest common divisor (GCD) of two positive integers m and n, gcd(m, n) can be defined recursively as follows:  \n",
        "\n",
        "If m % n is 0, gcd(m, n) is n.  \n",
        "Otherwise, gcd(m, n) is gcd(n, m % n).  \n",
        "\n",
        "Write a recursive function gcd(m, n) to find the GCD. Write a test program that computes gcd(24, 16) and gcd(255, 25)."
      ]
    },
    {
      "cell_type": "code",
      "metadata": {
        "id": "PwRmweEa9fny",
        "colab_type": "code",
        "outputId": "ee712cae-2e82-4122-9300-a950cb266048",
        "colab": {
          "base_uri": "https://localhost:8080/",
          "height": 51
        }
      },
      "source": [
        "def gcd(m, n):\n",
        "  if m % n == 0: # terminating case\n",
        "    return n\n",
        "  else: # recursive case\n",
        "    return gcd(n, m%n)\n",
        "\n",
        "# main\n",
        "print(gcd(24, 16))\n",
        "print(gcd(255, 25))"
      ],
      "execution_count": 0,
      "outputs": [
        {
          "output_type": "stream",
          "text": [
            "8\n",
            "5\n"
          ],
          "name": "stdout"
        }
      ]
    },
    {
      "cell_type": "markdown",
      "metadata": {
        "colab_type": "text",
        "id": "wWe4kRS8ZmwP"
      },
      "source": [
        "**Q4. (Reverse the digits in an integer)**  \n",
        "Write a recursive function reverse_int(n) that reverses the digits of an integer n: \n",
        "\n",
        "For example, reverse_int(12345) displays 54321."
      ]
    },
    {
      "cell_type": "code",
      "metadata": {
        "id": "aOozTwoR9j9B",
        "colab_type": "code",
        "outputId": "8615ef99-ee65-4738-a2a7-bf60a5cd6dfa",
        "colab": {
          "base_uri": "https://localhost:8080/",
          "height": 51
        }
      },
      "source": [
        "def reverse_int(n):\n",
        "  if n < 10: # single digit\n",
        "    return n\n",
        "  else: # recursive case (shift last digit to front + reverse of remaining digits)\n",
        "    return (n % 10) + reverse_int(n // 10)\n",
        "\n",
        "# main\n",
        "print(reverse_int(8)) # test terminating case\n",
        "print(reverse_int(12345)) # test recursive case"
      ],
      "execution_count": 0,
      "outputs": [
        {
          "output_type": "stream",
          "text": [
            "8\n",
            "15\n"
          ],
          "name": "stdout"
        }
      ]
    },
    {
      "cell_type": "markdown",
      "metadata": {
        "id": "lE0ScX9e9kcg",
        "colab_type": "text"
      },
      "source": [
        "**Q5. (Occurrences of a specified character in a string)**  \n",
        "Write a recursive function count_letter(str, ch) that finds the number of occurrences of a specified letter ch in a string str: \n",
        "\n",
        "For example, count_letter(\"Welcome\", 'e') returns 2."
      ]
    },
    {
      "cell_type": "code",
      "metadata": {
        "id": "sE_bxwDs9mf6",
        "colab_type": "code",
        "colab": {}
      },
      "source": [
        ""
      ],
      "execution_count": 0,
      "outputs": []
    },
    {
      "cell_type": "markdown",
      "metadata": {
        "id": "KSviQY0T9m7Q",
        "colab_type": "text"
      },
      "source": [
        "**Q6. (Summing the digits in an integer)**  \n",
        "Write a recursive function sum_digits(n) that computes the sum of the digits in an integer n: \n",
        "\n",
        "For example, sum_digits(234) returns 9."
      ]
    },
    {
      "cell_type": "code",
      "metadata": {
        "id": "YbH9Pbul9rK-",
        "colab_type": "code",
        "colab": {}
      },
      "source": [
        ""
      ],
      "execution_count": 0,
      "outputs": []
    },
    {
      "cell_type": "markdown",
      "metadata": {
        "id": "V9Z95nlg97e4",
        "colab_type": "text"
      },
      "source": [
        "**Q7. (Finding the largest number in an array)**  \n",
        "Write a recursive function find_largest(alist) that returns the largest integer in an array alist.  \n",
        "\n",
        "For example, given alist = [5, 1, 8, 7, 2], sum_digits(alist) returns 8.\n",
        "\n"
      ]
    },
    {
      "cell_type": "code",
      "metadata": {
        "id": "1AZvvAW499PK",
        "colab_type": "code",
        "colab": {}
      },
      "source": [
        ""
      ],
      "execution_count": 0,
      "outputs": []
    },
    {
      "cell_type": "markdown",
      "metadata": {
        "colab_type": "text",
        "id": "KNHIvXFleFFH"
      },
      "source": [
        "**Q8. (Finding the number of uppercase letters in a string)**  \n",
        "Write a recursive function find_num_uppercase(str) to return the number of uppercase letters in a string str.\n",
        "\n",
        "For example, find_num_uppercase('Good MorninG!') returns 3.\n",
        "\n"
      ]
    },
    {
      "cell_type": "code",
      "metadata": {
        "id": "-CZ0M7j6eHQe",
        "colab_type": "code",
        "colab": {}
      },
      "source": [
        ""
      ],
      "execution_count": 0,
      "outputs": []
    }
  ]
}