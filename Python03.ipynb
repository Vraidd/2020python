{
  "nbformat": 4,
  "nbformat_minor": 0,
  "metadata": {
    "colab": {
      "name": "Python03.ipynb",
      "provenance": [],
      "include_colab_link": true
    },
    "kernelspec": {
      "name": "python3",
      "display_name": "Python 3"
    }
  },
  "cells": [
    {
      "cell_type": "markdown",
      "metadata": {
        "id": "view-in-github",
        "colab_type": "text"
      },
      "source": [
        "<a href=\"https://colab.research.google.com/github/wenhong25/2020python/blob/master/Python03.ipynb\" target=\"_parent\"><img src=\"https://colab.research.google.com/assets/colab-badge.svg\" alt=\"Open In Colab\"/></a>"
      ]
    },
    {
      "cell_type": "markdown",
      "metadata": {
        "id": "F5WVWH3ouVfH",
        "colab_type": "text"
      },
      "source": [
        "# **Loops / Repetition / Iteration**\n",
        "\n",
        "repeat a fixed pattern many times\n",
        "\n",
        "\n",
        "2 types of loops in Python\n",
        "\n",
        "*   for (fixed number of times)\n",
        "*   while (variable number of times, 0 or more)\n",
        "\n"
      ]
    },
    {
      "cell_type": "code",
      "metadata": {
        "id": "fTH5-pSNuOVx",
        "colab_type": "code",
        "outputId": "28d7c004-334e-4e10-fb06-dcd1442f0d7e",
        "colab": {
          "base_uri": "https://localhost:8080/",
          "height": 188
        }
      },
      "source": [
        "# for (range)\n",
        "for i in range(10): # loop condition\n",
        "  print(\"Good morning!\") # loop body"
      ],
      "execution_count": 0,
      "outputs": [
        {
          "output_type": "stream",
          "text": [
            "Good morning!\n",
            "Good morning!\n",
            "Good morning!\n",
            "Good morning!\n",
            "Good morning!\n",
            "Good morning!\n",
            "Good morning!\n",
            "Good morning!\n",
            "Good morning!\n",
            "Good morning!\n"
          ],
          "name": "stdout"
        }
      ]
    },
    {
      "cell_type": "code",
      "metadata": {
        "id": "3zIM09aSFuGM",
        "colab_type": "code",
        "outputId": "8244285a-4031-44ad-a9b7-c509cac704a6",
        "colab": {
          "base_uri": "https://localhost:8080/",
          "height": 103
        }
      },
      "source": [
        "# for (print 1 to n)\n",
        "for i in range(0, 5): # range(5), if i < 5\n",
        "  print(i)\n",
        "  # i auto increment by 1"
      ],
      "execution_count": 0,
      "outputs": [
        {
          "output_type": "stream",
          "text": [
            "0\n",
            "1\n",
            "2\n",
            "3\n",
            "4\n"
          ],
          "name": "stdout"
        }
      ]
    },
    {
      "cell_type": "code",
      "metadata": {
        "id": "GY8NBPWWHKir",
        "colab_type": "code",
        "outputId": "4da0db79-c13e-4860-c1e6-443895166f30",
        "colab": {
          "base_uri": "https://localhost:8080/",
          "height": 34
        }
      },
      "source": [
        "# for (sum 1 to n) i.e. 1 + 2 + 3 + ... + n\n",
        "total = 0\n",
        "n = 100\n",
        "for i in range(1, n+1):\n",
        "  # total = total + i # 0 + 1, 1 + 2, 3 + 3, ...\n",
        "  total += i \n",
        "print(total)"
      ],
      "execution_count": 0,
      "outputs": [
        {
          "output_type": "stream",
          "text": [
            "5050\n"
          ],
          "name": "stdout"
        }
      ]
    },
    {
      "cell_type": "code",
      "metadata": {
        "id": "uPs60uSXugpb",
        "colab_type": "code",
        "colab": {}
      },
      "source": [
        "# for (iterable)\n",
        "# iterate over string\n"
      ],
      "execution_count": 0,
      "outputs": []
    },
    {
      "cell_type": "code",
      "metadata": {
        "id": "FwNgjJmBGJzF",
        "colab_type": "code",
        "outputId": "b7840c88-7e45-4eb4-a5da-92af417dabab",
        "colab": {
          "base_uri": "https://localhost:8080/",
          "height": 34
        }
      },
      "source": [
        "# for (with step)\n",
        "# all odd numbers between 1 to 10 inclusive\n",
        "#for i in range(1, 11):\n",
        "#  if i % 2 == 1: # odd\n",
        "#    print(i, end=' ')\n",
        "\n",
        "for i in range(1, 11, 2):\n",
        "  print(i, end=' ')"
      ],
      "execution_count": 0,
      "outputs": [
        {
          "output_type": "stream",
          "text": [
            "1 3 5 7 9 "
          ],
          "name": "stdout"
        }
      ]
    },
    {
      "cell_type": "code",
      "metadata": {
        "id": "d71_2jJ-GOq6",
        "colab_type": "code",
        "outputId": "51ad0141-08b2-4b22-d2b0-eed5bfd5ded4",
        "colab": {
          "base_uri": "https://localhost:8080/",
          "height": 34
        }
      },
      "source": [
        "# for (count down)\n",
        "for i in range(9, 0, -2):\n",
        "  print(i, end=' ')"
      ],
      "execution_count": 0,
      "outputs": [
        {
          "output_type": "stream",
          "text": [
            "9 7 5 3 1 "
          ],
          "name": "stdout"
        }
      ]
    },
    {
      "cell_type": "code",
      "metadata": {
        "id": "mR70NoG0u7BG",
        "colab_type": "code",
        "outputId": "2b53964f-602b-42a6-90c8-d2a35b5e8691",
        "colab": {
          "base_uri": "https://localhost:8080/",
          "height": 34
        }
      },
      "source": [
        "# while (print 1 to n)\n",
        "i = 1 # initialise\n",
        "n = 10\n",
        "while i <= n: # loop condition\n",
        "  print(i, end=' ') # loop body\n",
        "  i = i + 1 \n",
        "  # i += 1 update loop control"
      ],
      "execution_count": 0,
      "outputs": [
        {
          "output_type": "stream",
          "text": [
            "1 2 3 4 5 6 7 8 9 10 "
          ],
          "name": "stdout"
        }
      ]
    },
    {
      "cell_type": "code",
      "metadata": {
        "id": "5tG8MrByHff8",
        "colab_type": "code",
        "outputId": "75ee7cc2-4727-4f08-90a8-e9dc867b2b38",
        "colab": {
          "base_uri": "https://localhost:8080/",
          "height": 34
        }
      },
      "source": [
        "# while (sum 1 to n)\n",
        "i = 1\n",
        "n = 10\n",
        "total = 0\n",
        "while i <= n:\n",
        "  total = total + i # total += i\n",
        "  i = i + 1         # i += 1\n",
        "print(total)"
      ],
      "execution_count": 0,
      "outputs": [
        {
          "output_type": "stream",
          "text": [
            "55\n"
          ],
          "name": "stdout"
        }
      ]
    },
    {
      "cell_type": "code",
      "metadata": {
        "id": "AcDQ8qngHhal",
        "colab_type": "code",
        "colab": {}
      },
      "source": [
        "# while (guessing game)\n"
      ],
      "execution_count": 0,
      "outputs": []
    },
    {
      "cell_type": "markdown",
      "metadata": {
        "id": "XKgu8eOxJyoY",
        "colab_type": "text"
      },
      "source": [
        "## **Exercise: Be positive v1**\n",
        "\n",
        "Write a program to prompt the user for x positive integers, one at a time. Compute and output the sum of all x integers entered.\n",
        "\n",
        "Enhance your program to also compute and output the average of the x positive integers."
      ]
    },
    {
      "cell_type": "code",
      "metadata": {
        "id": "0msfEqHKHycq",
        "colab_type": "code",
        "colab": {}
      },
      "source": [
        ""
      ],
      "execution_count": 0,
      "outputs": []
    },
    {
      "cell_type": "markdown",
      "metadata": {
        "colab_type": "text",
        "id": "Nb-fjjjQKlV4"
      },
      "source": [
        "## **Exercise: Be positive v2**\n",
        "\n",
        "Write a program to prompt the user for x positive integers, one at a time, until the user terminates with -1. Compute and output the sum of all x integers entered.\n",
        "\n",
        "Enhance your program to also the largest and smallest numbers entered."
      ]
    },
    {
      "cell_type": "code",
      "metadata": {
        "id": "gyl8_Yh0LI6u",
        "colab_type": "code",
        "colab": {}
      },
      "source": [
        ""
      ],
      "execution_count": 0,
      "outputs": []
    }
  ]
}